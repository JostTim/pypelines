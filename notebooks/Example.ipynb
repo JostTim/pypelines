{
 "cells": [
  {
   "cell_type": "code",
   "execution_count": 27,
   "id": "9dfc5d79-8841-426f-9fbf-c7838173506c",
   "metadata": {},
   "outputs": [],
   "source": [
    "from pathlib import Path\n",
    "from pypelines import Pipeline, stepmethod, Session\n",
    "from pypelines.pickle_backend import PicklePipe\n",
    "\n",
    "pipeline = Pipeline(\"my_pipeline\")\n",
    "\n",
    "@pipeline.register_pipe\n",
    "class my_pipe(PicklePipe):\n",
    "\n",
    "    @stepmethod()\n",
    "    def first_step(self, session, extra = \"\"):\n",
    "        data = {\"message\":\"hello world\",\n",
    "                \"status\" : \"happy\",\n",
    "                \"step\" : \"first\"}\n",
    "        return data\n",
    "\n",
    "    @stepmethod(requires = \"my_pipe.first_step\")\n",
    "    def second_step(self, session, extra = \"\"):\n",
    "        data = self.load_requirement(\"my_pipe\", session, extra)\n",
    "        data[\"status\"] = \"delighted\"\n",
    "        data[\"step\"] = \"second\"\n",
    "        data[\"values\"] = [0, 1, 1, 2, 3, 5, 8, 13, 21, 34, 55, 89, 144]\n",
    "        return data"
   ]
  },
  {
   "cell_type": "code",
   "execution_count": 28,
   "id": "68294951-9071-4b8d-9b6a-2d79503806d6",
   "metadata": {},
   "outputs": [],
   "source": [
    "session = Session(subject = \"mickey\", date = \"2024-01-25\", number = 1, path = Path(\"pipelines_tests\").absolute(), auto_path = True) "
   ]
  },
  {
   "cell_type": "code",
   "execution_count": 29,
   "id": "60e48036-e9e9-4786-996e-6b2d8852b30d",
   "metadata": {},
   "outputs": [
    {
     "data": {
      "text/plain": [
       "subject                                               mickey\n",
       "date                                              2024-01-25\n",
       "number                                                     1\n",
       "path       C:\\Users\\tjostmou\\Documents\\Python\\__packages_...\n",
       "alias                                  mickey_2024-01-25_001\n",
       "Name: mickey_2024-01-25_001, dtype: object"
      ]
     },
     "execution_count": 29,
     "metadata": {},
     "output_type": "execute_result"
    }
   ],
   "source": [
    "session"
   ]
  },
  {
   "cell_type": "code",
   "execution_count": 22,
   "id": "a1340c34-a000-462b-aaad-a90a62d4b8c3",
   "metadata": {},
   "outputs": [
    {
     "data": {
      "text/plain": [
       "{'message': 'hello world',\n",
       " 'status': 'delighted',\n",
       " 'step': 'second',\n",
       " 'new_data': [0, 1, 1, 2, 3, 5, 8, 13, 21, 34, 55, 89, 144]}"
      ]
     },
     "execution_count": 22,
     "metadata": {},
     "output_type": "execute_result"
    }
   ],
   "source": [
    "pipeline.my_pipe.first_step.generate(session)"
   ]
  },
  {
   "cell_type": "code",
   "execution_count": 18,
   "id": "0524ca36-7e29-49ec-a5ab-02f186329aa0",
   "metadata": {},
   "outputs": [
    {
     "data": {
      "text/plain": [
       "{'message': 'hello world', 'status': 'happy', 'step': 'first'}"
      ]
     },
     "execution_count": 18,
     "metadata": {},
     "output_type": "execute_result"
    }
   ],
   "source": [
    "pipeline.my_pipe.first_step.load(session)"
   ]
  },
  {
   "cell_type": "code",
   "execution_count": 25,
   "id": "0d2bdee0-c332-40f6-8237-f6f68598fdb7",
   "metadata": {},
   "outputs": [
    {
     "data": {
      "text/plain": [
       "{'message': 'hello world',\n",
       " 'status': 'delighted',\n",
       " 'step': 'second',\n",
       " 'new_data': [0, 1, 1, 2, 3, 5, 8, 13, 21, 34, 55, 89, 144],\n",
       " 'values': [0, 1, 1, 2, 3, 5, 8, 13, 21, 34, 55, 89, 144]}"
      ]
     },
     "execution_count": 25,
     "metadata": {},
     "output_type": "execute_result"
    }
   ],
   "source": [
    "pipeline.my_pipe.second_step.generate(session)"
   ]
  },
  {
   "cell_type": "code",
   "execution_count": 30,
   "id": "d5ccacee-1731-414d-ab72-21542e431682",
   "metadata": {},
   "outputs": [
    {
     "name": "stdout",
     "output_type": "stream",
     "text": [
      "\u001b[1m\u001b[38;5;27mINFO\u001b[0m    \u001b[0m : \u001b[38;5;19m\u001b[38;5;27mgen.my_pipe.second_step\u001b[0m          \u001b[0m : \u001b[38;5;27m<mickey_2024-01-25_001> Checking the requirements\u001b[0m - \u001b[32m2024-02-05 12:28:29\u001b[0m\n",
      "\u001b[1m\u001b[4;1;38;5;27mHEADER\u001b[0m  \u001b[0m : \u001b[38;5;19m\u001b[4;1;38;5;27m╰─>req.my_pipe.first_step\u001b[0m        \u001b[0m : \u001b[1;38;5;27m<mickey_2024-01-25_001> Performing the requirement my_pipe.first_step\u001b[0m - \u001b[32m2024-02-05 12:28:29\u001b[0m\n",
      "\u001b[1m\u001b[4;1;38;5;27mHEADER\u001b[0m  \u001b[0m : \u001b[38;5;19m\u001b[4;1;38;5;27mgen.my_pipe.second_step\u001b[0m          \u001b[0m : \u001b[1;38;5;27m<mickey_2024-01-25_001> Performing the computation to generate my_pipe.second_step\u001b[0m - \u001b[32m2024-02-05 12:28:29\u001b[0m\n"
     ]
    },
    {
     "data": {
      "text/plain": [
       "{'message': 'hello world',\n",
       " 'status': 'delighted',\n",
       " 'step': 'second',\n",
       " 'values': [0, 1, 1, 2, 3, 5, 8, 13, 21, 34, 55, 89, 144]}"
      ]
     },
     "execution_count": 30,
     "metadata": {},
     "output_type": "execute_result"
    }
   ],
   "source": [
    "pipeline.my_pipe.second_step.generate(session, check_requirements = True)"
   ]
  }
 ],
 "metadata": {
  "kernelspec": {
   "display_name": ".venv",
   "language": "python",
   "name": "python3"
  },
  "language_info": {
   "codemirror_mode": {
    "name": "ipython",
    "version": 3
   },
   "file_extension": ".py",
   "mimetype": "text/x-python",
   "name": "python",
   "nbconvert_exporter": "python",
   "pygments_lexer": "ipython3",
   "version": "3.12.0"
  }
 },
 "nbformat": 4,
 "nbformat_minor": 5
}
